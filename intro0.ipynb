{
  "nbformat": 4,
  "nbformat_minor": 0,
  "metadata": {
    "colab": {
      "name": "intro0.ipynb",
      "provenance": [],
      "collapsed_sections": [],
      "authorship_tag": "ABX9TyN1Yu6e9dCbn4yyWsfwcJvO",
      "include_colab_link": true
    },
    "kernelspec": {
      "name": "python3",
      "display_name": "Python 3"
    },
    "language_info": {
      "name": "python"
    }
  },
  "cells": [
    {
      "cell_type": "markdown",
      "metadata": {
        "id": "view-in-github",
        "colab_type": "text"
      },
      "source": [
        "<a href=\"https://colab.research.google.com/github/UNKOkiss/data_viz_2022/blob/main/intro0.ipynb\" target=\"_parent\"><img src=\"https://colab.research.google.com/assets/colab-badge.svg\" alt=\"Open In Colab\"/></a>"
      ]
    },
    {
      "cell_type": "markdown",
      "source": [
        "\n",
        "Introdution to Basic Programming for Data Science and Data Visualization"
      ],
      "metadata": {
        "id": "rkB9xwHp-VEx"
      }
    },
    {
      "cell_type": "code",
      "execution_count": 1,
      "metadata": {
        "colab": {
          "base_uri": "https://localhost:8080/"
        },
        "id": "eO3j5U6l9nhH",
        "outputId": "b9572d52-573b-4aa8-d49f-1097756187fb"
      },
      "outputs": [
        {
          "output_type": "execute_result",
          "data": {
            "text/plain": [
              "3"
            ]
          },
          "metadata": {},
          "execution_count": 1
        }
      ],
      "source": [
        "a=1\n",
        "b=2\n",
        "a+b"
      ]
    },
    {
      "cell_type": "markdown",
      "source": [
        "1+2"
      ],
      "metadata": {
        "id": "R4pTxmcd_Coo"
      }
    },
    {
      "cell_type": "code",
      "source": [
        "print('อธิยาภรณ์ ลุล่วง ID 6230200315')"
      ],
      "metadata": {
        "colab": {
          "base_uri": "https://localhost:8080/"
        },
        "id": "PBEQOLu493hg",
        "outputId": "ea5e8dae-9060-4ef4-81c7-c792929568cd"
      },
      "execution_count": 2,
      "outputs": [
        {
          "output_type": "stream",
          "name": "stdout",
          "text": [
            "อธิยาภรณ์ ลุล่วง ID 6230200315\n"
          ]
        }
      ]
    },
    {
      "cell_type": "code",
      "source": [
        ""
      ],
      "metadata": {
        "id": "pkp68bJs_dFh"
      },
      "execution_count": null,
      "outputs": []
    },
    {
      "cell_type": "code",
      "source": [
        ""
      ],
      "metadata": {
        "id": "lazWM-F8_dDe"
      },
      "execution_count": null,
      "outputs": []
    },
    {
      "cell_type": "code",
      "source": [
        ""
      ],
      "metadata": {
        "id": "Io2qxXwP_dA2"
      },
      "execution_count": null,
      "outputs": []
    }
  ]
}
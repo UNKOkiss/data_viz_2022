{
  "nbformat": 4,
  "nbformat_minor": 0,
  "metadata": {
    "colab": {
      "name": "Basic Programming Concepts.ipynb",
      "provenance": [],
      "authorship_tag": "ABX9TyO0t4S01+XG2eJR5hRRTPnY",
      "include_colab_link": true
    },
    "kernelspec": {
      "name": "python3",
      "display_name": "Python 3"
    },
    "language_info": {
      "name": "python"
    }
  },
  "cells": [
    {
      "cell_type": "markdown",
      "metadata": {
        "id": "view-in-github",
        "colab_type": "text"
      },
      "source": [
        "<a href=\"https://colab.research.google.com/github/UNKOkiss/data_viz_2022/blob/main/Basic_Programming_Concepts.ipynb\" target=\"_parent\"><img src=\"https://colab.research.google.com/assets/colab-badge.svg\" alt=\"Open In Colab\"/></a>"
      ]
    },
    {
      "cell_type": "markdown",
      "source": [
        "# Functions ($f(x) = y$)"
      ],
      "metadata": {
        "id": "d-8t9U7CDpZf"
      }
    },
    {
      "cell_type": "markdown",
      "source": [
        "``` \n",
        "def function_name(input_x) :\n",
        "      # do something with input_x to get output_y\n",
        "      return output_y\n",
        "\n",
        "```"
      ],
      "metadata": {
        "id": "3t1cTQ3XExmG"
      }
    },
    {
      "cell_type": "markdown",
      "source": [
        "$f_1(x) = x^2 + 75$"
      ],
      "metadata": {
        "id": "9jZuW9W5F3o1"
      }
    },
    {
      "cell_type": "code",
      "source": [
        "def function_f1(x) :\n",
        "      a = x**2\n",
        "      y = a + 75\n",
        "      return y\n",
        "print('done!') # ต้องให้คำว่า print ตรงกับคำว่า def"
      ],
      "metadata": {
        "colab": {
          "base_uri": "https://localhost:8080/"
        },
        "id": "rcgUeBrZD0RM",
        "outputId": "577db0a3-e2a0-40aa-f8fa-290c56dc4e82"
      },
      "execution_count": 1,
      "outputs": [
        {
          "output_type": "stream",
          "name": "stdout",
          "text": [
            "done!\n"
          ]
        }
      ]
    },
    {
      "cell_type": "code",
      "source": [
        "function_f1(3)"
      ],
      "metadata": {
        "colab": {
          "base_uri": "https://localhost:8080/"
        },
        "id": "3Yy0X-bUD0MN",
        "outputId": "7746f2a1-5f96-4f95-edf6-d4246f4f8986"
      },
      "execution_count": 2,
      "outputs": [
        {
          "output_type": "execute_result",
          "data": {
            "text/plain": [
              "84"
            ]
          },
          "metadata": {},
          "execution_count": 2
        }
      ]
    },
    {
      "cell_type": "markdown",
      "source": [
        "function มีส่วนสำคัญทั้งหมด 4 ส่วน\n",
        "\n",
        "1. บอก python ว่าเราจะเขียนฟังก์ชั่น ชื่ออะไร def function_name() : (ขาดไม่ได้)\n",
        "2. กำหนดตัวแปรที่จะเป็น input _input_ (ขาดได้)\n",
        "3. ส่วนประมวลผล do_something with _input_ to get _Output_ (ขาดไม่ได้)\n",
        "4. ส่วน output return _Output_ (ขาดไม่ได้)"
      ],
      "metadata": {
        "id": "Q-BtMj1OHPtf"
      }
    },
    {
      "cell_type": "markdown",
      "source": [
        "### ตัวอย่าง function ที่มีส่วนประกอบครบ"
      ],
      "metadata": {
        "id": "DXoF6jqaID5t"
      }
    },
    {
      "cell_type": "code",
      "source": [
        "def function_f1(x) :\n",
        "      a = x**2\n",
        "      y = a + 75\n",
        "      return y"
      ],
      "metadata": {
        "id": "MA66rdqQD0J0"
      },
      "execution_count": 3,
      "outputs": []
    },
    {
      "cell_type": "markdown",
      "source": [
        "### ตัวอย่าง function ที่ ไม่มี input"
      ],
      "metadata": {
        "id": "yAzxtL9eINRd"
      }
    },
    {
      "cell_type": "code",
      "source": [
        "def pi_v() :\n",
        "      y = 3.14159265358979323846\n",
        "      return y"
      ],
      "metadata": {
        "id": "xEeSwH7HD0HH"
      },
      "execution_count": 4,
      "outputs": []
    },
    {
      "cell_type": "code",
      "execution_count": 5,
      "metadata": {
        "colab": {
          "base_uri": "https://localhost:8080/"
        },
        "id": "en1KGmQ2DdTl",
        "outputId": "e896878c-0059-4952-bb22-59975c7b7aef"
      },
      "outputs": [
        {
          "output_type": "stream",
          "name": "stdout",
          "text": [
            "12.566370614359172\n"
          ]
        }
      ],
      "source": [
        "piv = pi_v()\n",
        "circle_area_r2 = piv*(2**2)\n",
        "print(circle_area_r2)"
      ]
    },
    {
      "cell_type": "markdown",
      "source": [
        "### Function ไม่มี process ไม่ได้"
      ],
      "metadata": {
        "id": "FbT-z3HtJLbn"
      }
    },
    {
      "cell_type": "code",
      "source": [
        "def function_a():"
      ],
      "metadata": {
        "colab": {
          "base_uri": "https://localhost:8080/",
          "height": 132
        },
        "id": "5cMy_JBKJWPw",
        "outputId": "78f21cdc-af0e-43cf-b02e-0faa98ac33d1"
      },
      "execution_count": 7,
      "outputs": [
        {
          "output_type": "error",
          "ename": "SyntaxError",
          "evalue": "ignored",
          "traceback": [
            "\u001b[0;36m  File \u001b[0;32m\"<ipython-input-7-07a0750214a8>\"\u001b[0;36m, line \u001b[0;32m1\u001b[0m\n\u001b[0;31m    def function_a():\u001b[0m\n\u001b[0m                     ^\u001b[0m\n\u001b[0;31mSyntaxError\u001b[0m\u001b[0;31m:\u001b[0m unexpected EOF while parsing\n"
          ]
        }
      ]
    },
    {
      "cell_type": "markdown",
      "source": [
        "ตัวอย่าง Function ที่ไม่มี output"
      ],
      "metadata": {
        "id": "5vpv2PcsJZpI"
      }
    },
    {
      "cell_type": "code",
      "source": [
        "def print_name_id(name, id):\n",
        "      print(f'ชื่อ {name} รหัสประจำตัว {id}')"
      ],
      "metadata": {
        "id": "m-2HJ13CJfI-"
      },
      "execution_count": 8,
      "outputs": []
    },
    {
      "cell_type": "code",
      "source": [
        "print_name_id('อธิยาภรณ์','623020031-5')"
      ],
      "metadata": {
        "colab": {
          "base_uri": "https://localhost:8080/"
        },
        "id": "Ylg4R7PwKA3H",
        "outputId": "b9d5c4cd-e0a7-427a-a01f-6af2d5dad59d"
      },
      "execution_count": 9,
      "outputs": [
        {
          "output_type": "stream",
          "name": "stdout",
          "text": [
            "ชื่อ อธิยาภรณ์ รหัสประจำตัว 623020031-5\n"
          ]
        }
      ]
    },
    {
      "cell_type": "code",
      "source": [
        "a = print_name_id('อธิยาภรณ์','623020031-5')"
      ],
      "metadata": {
        "colab": {
          "base_uri": "https://localhost:8080/"
        },
        "id": "H52chFWPKkr_",
        "outputId": "c4cce133-51d0-479b-ed36-b6355abcd2bd"
      },
      "execution_count": 10,
      "outputs": [
        {
          "output_type": "stream",
          "name": "stdout",
          "text": [
            "ชื่อ อธิยาภรณ์ รหัสประจำตัว 623020031-5\n"
          ]
        }
      ]
    },
    {
      "cell_type": "code",
      "source": [
        "a"
      ],
      "metadata": {
        "id": "qvFPfC2MKoHX"
      },
      "execution_count": 11,
      "outputs": []
    },
    {
      "cell_type": "markdown",
      "source": [
        "ตัวอย่าง function print https://www.programiz.com/python-programming/methods/built-in/print"
      ],
      "metadata": {
        "id": "Zo3P3PXbOvvK"
      }
    },
    {
      "cell_type": "code",
      "source": [
        "print('อธิยาภรณ์')\n",
        "print('623020031-5')"
      ],
      "metadata": {
        "colab": {
          "base_uri": "https://localhost:8080/"
        },
        "id": "2eT4mmCmPS6L",
        "outputId": "1248d345-71cb-460f-be90-0f7d149b54e8"
      },
      "execution_count": 12,
      "outputs": [
        {
          "output_type": "stream",
          "name": "stdout",
          "text": [
            "อธิยาภรณ์\n",
            "623020031-5\n"
          ]
        }
      ]
    },
    {
      "cell_type": "code",
      "source": [
        "print('อธิยาภรณ์',end='->')\n",
        "print('623020031-5')"
      ],
      "metadata": {
        "colab": {
          "base_uri": "https://localhost:8080/"
        },
        "id": "_etELK3KPaVv",
        "outputId": "5049e5d8-d308-44f4-ccfb-42f4547dbaec"
      },
      "execution_count": 13,
      "outputs": [
        {
          "output_type": "stream",
          "name": "stdout",
          "text": [
            "อธิยาภรณ์->623020031-5\n"
          ]
        }
      ]
    },
    {
      "cell_type": "code",
      "source": [
        "print('อธิยาภรณ์','623020031-5',sep=' & ')"
      ],
      "metadata": {
        "colab": {
          "base_uri": "https://localhost:8080/"
        },
        "id": "tUxjzG0IPlEv",
        "outputId": "32a76e69-8824-4771-b469-6aefd8cdf406"
      },
      "execution_count": 14,
      "outputs": [
        {
          "output_type": "stream",
          "name": "stdout",
          "text": [
            "อธิยาภรณ์ & 623020031-5\n"
          ]
        }
      ]
    },
    {
      "cell_type": "markdown",
      "source": [
        "## input ของ function แบ่งเป็น 2 ชนิด (จำเป็นต้องใส่ กับ ไม่จำเป็นต้องใส่)"
      ],
      "metadata": {
        "id": "-tqAYez4QE1p"
      }
    },
    {
      "cell_type": "markdown",
      "source": [
        "ตัวอย่าง function `print_grade() มี input 3 ตัว จำเป็นต้องใส่ 2 ตัว คือ name กับ id และไม่จำเป็นต้องใส่ 1 ตัว คือเกรด ซึ่งมีค่า default เป็น F"
      ],
      "metadata": {
        "id": "cqy2TrCXRBdF"
      }
    },
    {
      "cell_type": "code",
      "source": [
        "def print_grade(name,id,grade = 'F'):\n",
        "      print(f'รหัสประจำตัว {id} ชื่อ {name}')\n",
        "      print(f'ได้เกรด {grade}')"
      ],
      "metadata": {
        "id": "_OlbuvtHQQAZ"
      },
      "execution_count": 15,
      "outputs": []
    },
    {
      "cell_type": "code",
      "source": [
        "print_grade('นางสาวอธิยาภรณ์ ลุล่วง','623020031-5')"
      ],
      "metadata": {
        "colab": {
          "base_uri": "https://localhost:8080/"
        },
        "id": "cVqWtiDgQ3NB",
        "outputId": "73c1506d-86e0-4ba5-bb50-cfca729b4825"
      },
      "execution_count": 16,
      "outputs": [
        {
          "output_type": "stream",
          "name": "stdout",
          "text": [
            "รหัสประจำตัว 623020031-5 ชื่อ นางสาวอธิยาภรณ์ ลุล่วง\n",
            "ได้เกรด F\n"
          ]
        }
      ]
    },
    {
      "cell_type": "code",
      "source": [
        "print_grade('นางสาวอธิยาภรณ์ ลุล่วง','623020031-5','A')"
      ],
      "metadata": {
        "colab": {
          "base_uri": "https://localhost:8080/"
        },
        "id": "Y6EcBVciRsQo",
        "outputId": "41c92280-2b97-45c2-96fa-b05cc8dad346"
      },
      "execution_count": 17,
      "outputs": [
        {
          "output_type": "stream",
          "name": "stdout",
          "text": [
            "รหัสประจำตัว 623020031-5 ชื่อ นางสาวอธิยาภรณ์ ลุล่วง\n",
            "ได้เกรด A\n"
          ]
        }
      ]
    },
    {
      "cell_type": "code",
      "source": [
        "print_grade(id ='623020031-5',name='นางสาวอธิยาภรณ์ ลุล่วง',grade='B+')"
      ],
      "metadata": {
        "colab": {
          "base_uri": "https://localhost:8080/"
        },
        "id": "j4tfscDrR6iJ",
        "outputId": "2b7eae21-4c88-4b11-c271-ea5d2c0360cc"
      },
      "execution_count": 18,
      "outputs": [
        {
          "output_type": "stream",
          "name": "stdout",
          "text": [
            "รหัสประจำตัว 623020031-5 ชื่อ นางสาวอธิยาภรณ์ ลุล่วง\n",
            "ได้เกรด B+\n"
          ]
        }
      ]
    },
    {
      "cell_type": "markdown",
      "source": [
        "Looping (for)"
      ],
      "metadata": {
        "id": "YGElUeTaD0-V"
      }
    },
    {
      "cell_type": "markdown",
      "source": [
        "```python\n",
        "for member in listEx:\n",
        "    do_something()\n",
        "```"
      ],
      "metadata": {
        "id": "JpqvvvSmTYTA"
      }
    },
    {
      "cell_type": "code",
      "source": [
        "for member in [1,2,3,4,5,6]:\n",
        "    print(member)"
      ],
      "metadata": {
        "colab": {
          "base_uri": "https://localhost:8080/"
        },
        "id": "67l8oTp2TW_B",
        "outputId": "5e572b63-61b4-4125-be1c-880d64f82fa1"
      },
      "execution_count": 19,
      "outputs": [
        {
          "output_type": "stream",
          "name": "stdout",
          "text": [
            "1\n",
            "2\n",
            "3\n",
            "4\n",
            "5\n",
            "6\n"
          ]
        }
      ]
    },
    {
      "cell_type": "code",
      "source": [
        "def print_name(name):\n",
        "      print(f'ฉันชื่อ {name}')"
      ],
      "metadata": {
        "id": "s5DUWtBAUpfY"
      },
      "execution_count": 20,
      "outputs": []
    },
    {
      "cell_type": "code",
      "source": [
        "for name in ['อธิยาภรณ์','ญาดา','วีระพล','ลี เจโน่','นา แจมิน']:\n",
        "    N = name\n",
        "    print_name(N)"
      ],
      "metadata": {
        "colab": {
          "base_uri": "https://localhost:8080/"
        },
        "id": "YNNG51VlVIKA",
        "outputId": "34ff2352-3cab-493f-cccf-3802ffba43b1"
      },
      "execution_count": 21,
      "outputs": [
        {
          "output_type": "stream",
          "name": "stdout",
          "text": [
            "ฉันชื่อ อธิยาภรณ์\n",
            "ฉันชื่อ ญาดา\n",
            "ฉันชื่อ วีระพล\n",
            "ฉันชื่อ ลี เจโน่\n",
            "ฉันชื่อ นา แจมิน\n"
          ]
        }
      ]
    },
    {
      "cell_type": "code",
      "source": [
        "list_name_id_grade = [['นายลี เจโน่','623020031-5','A'],\n",
        "                                ['แจมิน','623020031-6','B+'],\n",
        "                                ['เฮียเหริน','623020031-7','B']]"
      ],
      "metadata": {
        "id": "A3UTGO3XWRi5"
      },
      "execution_count": 22,
      "outputs": []
    },
    {
      "cell_type": "code",
      "source": [
        "for each in list_name_id_grade:\n",
        "    name = each[0]\n",
        "    id = each[1]\n",
        "    grade = each[2]\n",
        "    print_grade(name,id,grade)\n",
        "    print('--------------------')"
      ],
      "metadata": {
        "colab": {
          "base_uri": "https://localhost:8080/"
        },
        "id": "IRM89FAzXOja",
        "outputId": "42b167bd-7fe1-4e82-97fc-76005ff01541"
      },
      "execution_count": 23,
      "outputs": [
        {
          "output_type": "stream",
          "name": "stdout",
          "text": [
            "รหัสประจำตัว 623020031-5 ชื่อ นายลี เจโน่\n",
            "ได้เกรด A\n",
            "--------------------\n",
            "รหัสประจำตัว 623020031-6 ชื่อ แจมิน\n",
            "ได้เกรด B+\n",
            "--------------------\n",
            "รหัสประจำตัว 623020031-7 ชื่อ เฮียเหริน\n",
            "ได้เกรด B\n",
            "--------------------\n"
          ]
        }
      ]
    },
    {
      "cell_type": "markdown",
      "source": [
        "## ใช้ for loop เพิ่มสมาชิกใน list"
      ],
      "metadata": {
        "id": "do60zQ4lYWti"
      }
    },
    {
      "cell_type": "code",
      "source": [
        "list_name = [] # ตั้งชื่อที่เป็น list ว่างเอาไว้ก่อน\n",
        "list_id = [] # ตั้งชื่อที่เป็น list ว่างเอาไว้ก่อน\n",
        "list_grade = [] # ตั้งชื่อที่เป็น list ว่างเอาไว้ก่อน\n",
        "for each in list_name_id_grade:\n",
        "    list_name.append(each[0])\n",
        "    list_id.append(each[1])\n",
        "    list_grade.append(each[2])"
      ],
      "metadata": {
        "id": "C7BiCr6rYmYR"
      },
      "execution_count": 24,
      "outputs": []
    },
    {
      "cell_type": "code",
      "source": [
        "list_name"
      ],
      "metadata": {
        "colab": {
          "base_uri": "https://localhost:8080/"
        },
        "id": "72eWTzn0Y7Li",
        "outputId": "21e231f4-21a6-4b70-cef4-fdd75d879b85"
      },
      "execution_count": 25,
      "outputs": [
        {
          "output_type": "execute_result",
          "data": {
            "text/plain": [
              "['นายลี เจโน่', 'แจมิน', 'เฮียเหริน']"
            ]
          },
          "metadata": {},
          "execution_count": 25
        }
      ]
    },
    {
      "cell_type": "markdown",
      "source": [
        "### การวนลูปด้วย range()"
      ],
      "metadata": {
        "id": "46-mbZEebr4B"
      }
    },
    {
      "cell_type": "code",
      "source": [
        "for i in range(50):\n",
        "    print('แง่ง', end = ' ')"
      ],
      "metadata": {
        "colab": {
          "base_uri": "https://localhost:8080/"
        },
        "id": "iYCk9LYObwQK",
        "outputId": "e4309c34-b012-418c-e976-780aaaccf369"
      },
      "execution_count": 26,
      "outputs": [
        {
          "output_type": "stream",
          "name": "stdout",
          "text": [
            "แง่ง แง่ง แง่ง แง่ง แง่ง แง่ง แง่ง แง่ง แง่ง แง่ง แง่ง แง่ง แง่ง แง่ง แง่ง แง่ง แง่ง แง่ง แง่ง แง่ง แง่ง แง่ง แง่ง แง่ง แง่ง แง่ง แง่ง แง่ง แง่ง แง่ง แง่ง แง่ง แง่ง แง่ง แง่ง แง่ง แง่ง แง่ง แง่ง แง่ง แง่ง แง่ง แง่ง แง่ง แง่ง แง่ง แง่ง แง่ง แง่ง แง่ง "
          ]
        }
      ]
    },
    {
      "cell_type": "markdown",
      "source": [
        "## Loop ซ้อน Loop"
      ],
      "metadata": {
        "id": "dUJEk_XJce1C"
      }
    },
    {
      "cell_type": "code",
      "source": [
        "for mem1 in range(2,5): # [2,3,4]\n",
        "    print(f'now mem1 = {mem1}')\n",
        "    for mem2 in range(1,13): # [1,2,3,4,5,6,7,8,9,10,11,12]\n",
        "        print(f'{mem1} x {mem2} = {mem1*mem2}') #เอามาคูณกัน ให้กลายเป็นสูตรคูณแม่ 2 แม่ 3 แม่ 4\n",
        "    print(f'end inner for mem1 = {mem1}')"
      ],
      "metadata": {
        "colab": {
          "base_uri": "https://localhost:8080/"
        },
        "id": "XMzY15Yhch4S",
        "outputId": "8fa5ab4e-ba10-4a29-9886-e985b6e3a788"
      },
      "execution_count": 27,
      "outputs": [
        {
          "output_type": "stream",
          "name": "stdout",
          "text": [
            "now mem1 = 2\n",
            "2 x 1 = 2\n",
            "2 x 2 = 4\n",
            "2 x 3 = 6\n",
            "2 x 4 = 8\n",
            "2 x 5 = 10\n",
            "2 x 6 = 12\n",
            "2 x 7 = 14\n",
            "2 x 8 = 16\n",
            "2 x 9 = 18\n",
            "2 x 10 = 20\n",
            "2 x 11 = 22\n",
            "2 x 12 = 24\n",
            "end inner for mem1 = 2\n",
            "now mem1 = 3\n",
            "3 x 1 = 3\n",
            "3 x 2 = 6\n",
            "3 x 3 = 9\n",
            "3 x 4 = 12\n",
            "3 x 5 = 15\n",
            "3 x 6 = 18\n",
            "3 x 7 = 21\n",
            "3 x 8 = 24\n",
            "3 x 9 = 27\n",
            "3 x 10 = 30\n",
            "3 x 11 = 33\n",
            "3 x 12 = 36\n",
            "end inner for mem1 = 3\n",
            "now mem1 = 4\n",
            "4 x 1 = 4\n",
            "4 x 2 = 8\n",
            "4 x 3 = 12\n",
            "4 x 4 = 16\n",
            "4 x 5 = 20\n",
            "4 x 6 = 24\n",
            "4 x 7 = 28\n",
            "4 x 8 = 32\n",
            "4 x 9 = 36\n",
            "4 x 10 = 40\n",
            "4 x 11 = 44\n",
            "4 x 12 = 48\n",
            "end inner for mem1 = 4\n"
          ]
        }
      ]
    },
    {
      "cell_type": "markdown",
      "source": [
        "### Loop in function"
      ],
      "metadata": {
        "id": "21o0j96kf9X7"
      }
    },
    {
      "cell_type": "code",
      "source": [
        "def print_grade_loop(names,grades):\n",
        "    for n,g in zip(names,grades):\n",
        "        print(f'{n} ได้เกรด {g}')"
      ],
      "metadata": {
        "id": "nItufqqcgDpL"
      },
      "execution_count": 28,
      "outputs": []
    },
    {
      "cell_type": "code",
      "source": [
        "print_grade_loop(list_name,list_grade)"
      ],
      "metadata": {
        "colab": {
          "base_uri": "https://localhost:8080/"
        },
        "id": "vPWwwsaIgtak",
        "outputId": "4281ffb2-0298-4f9a-9fcd-de5d064649ea"
      },
      "execution_count": 29,
      "outputs": [
        {
          "output_type": "stream",
          "name": "stdout",
          "text": [
            "นายลี เจโน่ ได้เกรด A\n",
            "แจมิน ได้เกรด B+\n",
            "เฮียเหริน ได้เกรด B\n"
          ]
        }
      ]
    },
    {
      "cell_type": "markdown",
      "source": [
        "Conditional Statemant (if)"
      ],
      "metadata": {
        "id": "5MM_rX1jD5b8"
      }
    },
    {
      "cell_type": "markdown",
      "source": [
        "```python\n",
        "if condition1:\n",
        "  do_something() ## ถ้า condition1 เป็นจริง ทำ do_something()\n",
        "elif condition2:\n",
        "  do_another_thing() ## ถ้า condition1 ไม่เป็นจริงแต่ condition2 เป็นจริง ทำ do_another_thing()\n",
        "else:\n",
        "  do_the_last_thing() ## ถ้าไม่มี conditon ไหนเป็นจริงเลย ทำ do_the_last_thing()\n",
        "```"
      ],
      "metadata": {
        "id": "EZzMJTFCh9VN"
      }
    },
    {
      "cell_type": "code",
      "source": [
        "for n in list_name:\n",
        "    if len(n)>10:\n",
        "       print(f'{n} ได้เกรด A')\n",
        "    else:\n",
        "      print(f'{n} ได้เกรด F')"
      ],
      "metadata": {
        "id": "F31-oOVjD4WF",
        "colab": {
          "base_uri": "https://localhost:8080/"
        },
        "outputId": "13eec11e-24d4-4691-8a0a-003445e939e6"
      },
      "execution_count": 30,
      "outputs": [
        {
          "output_type": "stream",
          "name": "stdout",
          "text": [
            "นายลี เจโน่ ได้เกรด A\n",
            "แจมิน ได้เกรด F\n",
            "เฮียเหริน ได้เกรด F\n"
          ]
        }
      ]
    },
    {
      "cell_type": "markdown",
      "source": [
        "### operator ที่ใช้ตรวจสอบ condition\n",
        "\n",
        "==, !=, >=, <=, <, >, and, or"
      ],
      "metadata": {
        "id": "jMQ0ZyJEkK51"
      }
    },
    {
      "cell_type": "code",
      "source": [
        "10 == 20"
      ],
      "metadata": {
        "colab": {
          "base_uri": "https://localhost:8080/"
        },
        "id": "npcTO1B5kKLt",
        "outputId": "5a37356c-1edb-4eb7-a0ff-b1f559e315e6"
      },
      "execution_count": 31,
      "outputs": [
        {
          "output_type": "execute_result",
          "data": {
            "text/plain": [
              "False"
            ]
          },
          "metadata": {},
          "execution_count": 31
        }
      ]
    },
    {
      "cell_type": "code",
      "source": [
        "b = 15 <= 20\n",
        "print(b)"
      ],
      "metadata": {
        "colab": {
          "base_uri": "https://localhost:8080/"
        },
        "id": "hEH_5eubj0Vm",
        "outputId": "f6ff1edf-7a91-47f4-895e-c09e6802ea27"
      },
      "execution_count": 32,
      "outputs": [
        {
          "output_type": "stream",
          "name": "stdout",
          "text": [
            "True\n"
          ]
        }
      ]
    },
    {
      "cell_type": "code",
      "source": [
        "if a:\n",
        "  print('x')"
      ],
      "metadata": {
        "id": "cSu607PblKAD"
      },
      "execution_count": 33,
      "outputs": []
    },
    {
      "cell_type": "code",
      "source": [
        "if True:\n",
        "  print('x')"
      ],
      "metadata": {
        "colab": {
          "base_uri": "https://localhost:8080/"
        },
        "id": "EYeAuofZlNR3",
        "outputId": "2b992d7d-4576-4dd1-9552-9c013c97bfdc"
      },
      "execution_count": 34,
      "outputs": [
        {
          "output_type": "stream",
          "name": "stdout",
          "text": [
            "x\n"
          ]
        }
      ]
    },
    {
      "cell_type": "code",
      "source": [
        "if a and b:\n",
        "  print('x')"
      ],
      "metadata": {
        "id": "A6LzFYIqlQHl"
      },
      "execution_count": 35,
      "outputs": []
    },
    {
      "cell_type": "code",
      "source": [
        "if a or b:\n",
        "  print('x')"
      ],
      "metadata": {
        "colab": {
          "base_uri": "https://localhost:8080/"
        },
        "id": "7vDF_WdAlZqm",
        "outputId": "f34abf57-4e5a-4ad1-bb5b-fc09f303d6da"
      },
      "execution_count": 36,
      "outputs": [
        {
          "output_type": "stream",
          "name": "stdout",
          "text": [
            "x\n"
          ]
        }
      ]
    },
    {
      "cell_type": "markdown",
      "source": [
        "# HW4\n",
        "เขียน function ตัดเกรด โดยที่ input เป็นคะแนน(0-100) , output เป็นเกรด (F-A) หรือ 'ไม่สามารถตัดเกรดได้'\n",
        "\n",
        "วนลูปตัดเกรด input = [1,50,65,90,101,-5,49,'ก',80]\n",
        "\n",
        "กำหนด\n",
        "\n",
        "    ถ้ากำหนดอยู่ระหว่างมากกว่าหรือเท่ากับ 0 แต่น้อยกว่า 50 จะได้เกรด F\n",
        "    ถ้ากำหนดอยู่ระหว่างมากกว่าหรือเท่ากับ 50 แต่น้อยกว่า 55 จะได้เกรด D   \n",
        "    ถ้ากำหนดอยู่ระหว่างมากกว่าหรือเท่ากับ 55 แต่น้อยกว่า 60 จะได้เกรด D+  \n",
        "    ถ้ากำหนดอยู่ระหว่างมากกว่าหรือเท่ากับ 60 แต่น้อยกว่า 65 จะได้เกรด C  \n",
        "    ถ้ากำหนดอยู่ระหว่างมากกว่าหรือเท่ากับ 65 แต่น้อยกว่า 70 จะได้เกรด C+  \n",
        "    ถ้ากำหนดอยู่ระหว่างมากกว่าหรือเท่ากับ 70 แต่น้อยกว่า 75 จะได้เกรด B  \n",
        "    ถ้ากำหนดอยู่ระหว่างมากกว่าหรือเท่ากับ 75 แต่น้อยกว่า 80 จะได้เกรด B+  \n",
        "    ถ้ากำหนดอยู่ระหว่างมากกว่าหรือเท่ากับ 80 จะได้เกรด A\n",
        "    ถ้าคะแนนไม่อยู่ในช่วง 0-100 ให้ return 'ไม่สามารถตัดเกรดได้'"
      ],
      "metadata": {
        "id": "WnizP75Qlqsd"
      }
    },
    {
      "cell_type": "code",
      "source": [
        "score = [1,50,65,90,101,-5,49,'ก',80]"
      ],
      "metadata": {
        "id": "1XAP6Ky3jKIA"
      },
      "execution_count": 42,
      "outputs": []
    },
    {
      "cell_type": "code",
      "source": [
        "print(score)\n",
        "print('---------------------------------------')\n",
        "for s in score:\n",
        "    if type(s) == type(\"\"):\n",
        "        print (f'คะแนน {s} ไม่สามารถตัดเกรดได้')\n",
        "    else:\n",
        "        if s >= 101:\n",
        "            print (f'คะแนน {s} ไม่สามารถตัดเกรดได้')\n",
        "        elif s >= 80:\n",
        "            print (f'คะแนน {s} ได้เกรด A')\n",
        "        elif s >= 75:\n",
        "            print (f'คะแนน {s} ได้เกรด B+')\n",
        "        elif s >= 70:\n",
        "            print (f'คะแนน {s} ได้เกรด B')\n",
        "        elif s >= 65:\n",
        "            print (f'คะแนน {s} ได้เกรด C+')\n",
        "        elif  s >= 60:\n",
        "            print (f'คะแนน {s} ได้เกรด C')\n",
        "        elif  s >= 55:\n",
        "            print (f'คะแนน {s} ได้เกรด D+')\n",
        "        elif  s >= 50:\n",
        "            print (f'คะแนน {s} ได้เกรด D')\n",
        "        elif  s >= 0:\n",
        "            print (f'คะแนน {s} ได้เกรด F')\n",
        "        else:\n",
        "            print (f'คะแนน {s} ไม่สามารถตัดเกรดได้')\n",
        "print('---------------------------------------')"
      ],
      "metadata": {
        "id": "ksV7_sBulcy6",
        "colab": {
          "base_uri": "https://localhost:8080/"
        },
        "outputId": "36e94e3a-1399-433a-efdd-d9d890d4d7b3"
      },
      "execution_count": 59,
      "outputs": [
        {
          "output_type": "stream",
          "name": "stdout",
          "text": [
            "[1, 50, 65, 90, 101, -5, 49, 'ก', 80]\n",
            "---------------------------------------\n",
            "คะแนน 1 ได้เกรด F\n",
            "คะแนน 50 ได้เกรด D\n",
            "คะแนน 65 ได้เกรด C+\n",
            "คะแนน 90 ได้เกรด A\n",
            "คะแนน 101 ไม่สามารถตัดเกรดได้\n",
            "คะแนน -5 ไม่สามารถตัดเกรดได้\n",
            "คะแนน 49 ได้เกรด F\n",
            "คะแนน ก ไม่สามารถตัดเกรดได้\n",
            "คะแนน 80 ได้เกรด A\n",
            "---------------------------------------\n"
          ]
        }
      ]
    }
  ]
}
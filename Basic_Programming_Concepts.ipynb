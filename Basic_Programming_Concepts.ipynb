{
  "nbformat": 4,
  "nbformat_minor": 0,
  "metadata": {
    "colab": {
      "name": "Basic Programming Concepts.ipynb",
      "provenance": [],
      "authorship_tag": "ABX9TyN1o4pPAdTZbWUaV/OLS4Bg",
      "include_colab_link": true
    },
    "kernelspec": {
      "name": "python3",
      "display_name": "Python 3"
    },
    "language_info": {
      "name": "python"
    }
  },
  "cells": [
    {
      "cell_type": "markdown",
      "metadata": {
        "id": "view-in-github",
        "colab_type": "text"
      },
      "source": [
        "<a href=\"https://colab.research.google.com/github/UNKOkiss/data_viz_2022/blob/main/Basic_Programming_Concepts.ipynb\" target=\"_parent\"><img src=\"https://colab.research.google.com/assets/colab-badge.svg\" alt=\"Open In Colab\"/></a>"
      ]
    },
    {
      "cell_type": "markdown",
      "source": [
        "# Functions ($f(x) = y$)"
      ],
      "metadata": {
        "id": "d-8t9U7CDpZf"
      }
    },
    {
      "cell_type": "markdown",
      "source": [
        "``` \n",
        "def function_name(input_x) :\n",
        "      # do something with input_x to get output_y\n",
        "      return output_y\n",
        "\n",
        "```"
      ],
      "metadata": {
        "id": "3t1cTQ3XExmG"
      }
    },
    {
      "cell_type": "markdown",
      "source": [
        "$f_1(x) = x^2 + 75$"
      ],
      "metadata": {
        "id": "9jZuW9W5F3o1"
      }
    },
    {
      "cell_type": "code",
      "source": [
        "def function_f1(x) :\n",
        "      a = x**2\n",
        "      y = a + 75\n",
        "      return y\n",
        "print('done!') # ต้องให้คำว่า print ตรงกับคำว่า def"
      ],
      "metadata": {
        "colab": {
          "base_uri": "https://localhost:8080/"
        },
        "id": "rcgUeBrZD0RM",
        "outputId": "e56dec56-04bf-4be7-f4d2-73ec13dbef95"
      },
      "execution_count": 6,
      "outputs": [
        {
          "output_type": "stream",
          "name": "stdout",
          "text": [
            "done!\n"
          ]
        }
      ]
    },
    {
      "cell_type": "code",
      "source": [
        "function_f1(3)"
      ],
      "metadata": {
        "colab": {
          "base_uri": "https://localhost:8080/"
        },
        "id": "3Yy0X-bUD0MN",
        "outputId": "dccc2a47-1e85-42b1-fdb2-52b460d508d3"
      },
      "execution_count": 7,
      "outputs": [
        {
          "output_type": "execute_result",
          "data": {
            "text/plain": [
              "84"
            ]
          },
          "metadata": {},
          "execution_count": 7
        }
      ]
    },
    {
      "cell_type": "markdown",
      "source": [
        "function มีส่วนสำคัญทั้งหมด 4 ส่วน\n",
        "\n",
        "1. บอก python ว่าเราจะเขียนฟังก์ชั่น ชื่ออะไร def function_name() : (ขาดไม่ได้)\n",
        "2. กำหนดตัวแปรที่จะเป็น input _input_ (ขาดได้)\n",
        "3. ส่วนประมวลผล do_something with _input_ to get _Output_ (ขาดไม่ได้)\n",
        "4. ส่วน output return _Output_ (ขาดไม่ได้)"
      ],
      "metadata": {
        "id": "Q-BtMj1OHPtf"
      }
    },
    {
      "cell_type": "markdown",
      "source": [
        "### ตัวอย่าง function ที่มีส่วนประกอบครบ"
      ],
      "metadata": {
        "id": "DXoF6jqaID5t"
      }
    },
    {
      "cell_type": "code",
      "source": [
        "def function_f1(x) :\n",
        "      a = x**2\n",
        "      y = a + 75\n",
        "      return y"
      ],
      "metadata": {
        "id": "MA66rdqQD0J0"
      },
      "execution_count": 8,
      "outputs": []
    },
    {
      "cell_type": "markdown",
      "source": [
        "### ตัวอย่าง function ที่ ไม่มี input"
      ],
      "metadata": {
        "id": "yAzxtL9eINRd"
      }
    },
    {
      "cell_type": "code",
      "source": [
        "def pi_v() :\n",
        "      y = 3.14159265358979323846\n",
        "      return y"
      ],
      "metadata": {
        "id": "xEeSwH7HD0HH"
      },
      "execution_count": 9,
      "outputs": []
    },
    {
      "cell_type": "code",
      "execution_count": 11,
      "metadata": {
        "colab": {
          "base_uri": "https://localhost:8080/"
        },
        "id": "en1KGmQ2DdTl",
        "outputId": "aa371397-54a2-4a97-a310-646001f7db94"
      },
      "outputs": [
        {
          "output_type": "stream",
          "name": "stdout",
          "text": [
            "12.566370614359172\n"
          ]
        }
      ],
      "source": [
        "piv = pi_v()\n",
        "circle_area_r2 = piv*(2**2)\n",
        "print(circle_area_r2)"
      ]
    },
    {
      "cell_type": "markdown",
      "source": [
        "### Function ไม่มี process ไม่ได้"
      ],
      "metadata": {
        "id": "FbT-z3HtJLbn"
      }
    },
    {
      "cell_type": "code",
      "source": [
        "def function_a():"
      ],
      "metadata": {
        "colab": {
          "base_uri": "https://localhost:8080/",
          "height": 132
        },
        "id": "5cMy_JBKJWPw",
        "outputId": "cc339127-1ea1-429b-a87a-c54528b90d3e"
      },
      "execution_count": 12,
      "outputs": [
        {
          "output_type": "error",
          "ename": "SyntaxError",
          "evalue": "ignored",
          "traceback": [
            "\u001b[0;36m  File \u001b[0;32m\"<ipython-input-12-07a0750214a8>\"\u001b[0;36m, line \u001b[0;32m1\u001b[0m\n\u001b[0;31m    def function_a():\u001b[0m\n\u001b[0m                     ^\u001b[0m\n\u001b[0;31mSyntaxError\u001b[0m\u001b[0;31m:\u001b[0m unexpected EOF while parsing\n"
          ]
        }
      ]
    },
    {
      "cell_type": "markdown",
      "source": [
        "ตัวอย่าง Function ที่ไม่มี output"
      ],
      "metadata": {
        "id": "5vpv2PcsJZpI"
      }
    },
    {
      "cell_type": "code",
      "source": [
        "def print_name_id(name, id):\n",
        "      print(f'ชื่อ {name} รหัสประจำตัว {id}')"
      ],
      "metadata": {
        "id": "m-2HJ13CJfI-"
      },
      "execution_count": 23,
      "outputs": []
    },
    {
      "cell_type": "code",
      "source": [
        "print_name_id('อธิยาภรณ์','623020031-5')"
      ],
      "metadata": {
        "colab": {
          "base_uri": "https://localhost:8080/"
        },
        "id": "Ylg4R7PwKA3H",
        "outputId": "1aaddba7-156b-413a-ae11-1ef0ddd992a5"
      },
      "execution_count": 24,
      "outputs": [
        {
          "output_type": "stream",
          "name": "stdout",
          "text": [
            "ชื่อ อธิยาภรณ์ รหัสประจำตัว 623020031-5\n"
          ]
        }
      ]
    },
    {
      "cell_type": "code",
      "source": [
        "a = print_name_id('อธิยาภรณ์','623020031-5')"
      ],
      "metadata": {
        "colab": {
          "base_uri": "https://localhost:8080/"
        },
        "id": "H52chFWPKkr_",
        "outputId": "184ceaa3-c3e5-490f-b512-a90b4eb1a9b2"
      },
      "execution_count": 25,
      "outputs": [
        {
          "output_type": "stream",
          "name": "stdout",
          "text": [
            "ชื่อ อธิยาภรณ์ รหัสประจำตัว 623020031-5\n"
          ]
        }
      ]
    },
    {
      "cell_type": "code",
      "source": [
        "a"
      ],
      "metadata": {
        "id": "qvFPfC2MKoHX"
      },
      "execution_count": 26,
      "outputs": []
    },
    {
      "cell_type": "markdown",
      "source": [
        "ตัวอย่าง function print https://www.programiz.com/python-programming/methods/built-in/print"
      ],
      "metadata": {
        "id": "Zo3P3PXbOvvK"
      }
    },
    {
      "cell_type": "code",
      "source": [
        "print('อธิยาภรณ์')\n",
        "print('623020031-5')"
      ],
      "metadata": {
        "colab": {
          "base_uri": "https://localhost:8080/"
        },
        "id": "2eT4mmCmPS6L",
        "outputId": "299faa77-7d9a-4a99-cbd4-b304ffab48ca"
      },
      "execution_count": 28,
      "outputs": [
        {
          "output_type": "stream",
          "name": "stdout",
          "text": [
            "อธิยาภรณ์\n",
            "623020031-5\n"
          ]
        }
      ]
    },
    {
      "cell_type": "code",
      "source": [
        "print('อธิยาภรณ์',end='->')\n",
        "print('623020031-5')"
      ],
      "metadata": {
        "colab": {
          "base_uri": "https://localhost:8080/"
        },
        "id": "_etELK3KPaVv",
        "outputId": "5cbf9139-612a-48b8-e2e3-39df5d75dc24"
      },
      "execution_count": 29,
      "outputs": [
        {
          "output_type": "stream",
          "name": "stdout",
          "text": [
            "อธิยาภรณ์->623020031-5\n"
          ]
        }
      ]
    },
    {
      "cell_type": "code",
      "source": [
        "print('อธิยาภรณ์','623020031-5',sep=' & ')"
      ],
      "metadata": {
        "colab": {
          "base_uri": "https://localhost:8080/"
        },
        "id": "tUxjzG0IPlEv",
        "outputId": "6eedd2a3-6839-4a9d-91bb-012b0e60db76"
      },
      "execution_count": 30,
      "outputs": [
        {
          "output_type": "stream",
          "name": "stdout",
          "text": [
            "อธิยาภรณ์ & 623020031-5\n"
          ]
        }
      ]
    },
    {
      "cell_type": "markdown",
      "source": [
        "## input ของ function แบ่งเป็น 2 ชนิด (จำเป็นต้องใส่ กับ ไม่จำเป็นต้องใส่)"
      ],
      "metadata": {
        "id": "-tqAYez4QE1p"
      }
    },
    {
      "cell_type": "markdown",
      "source": [
        "ตัวอย่าง function `print_grade() มี input 3 ตัว จำเป็นต้องใส่ 2 ตัว คือ name กับ id และไม่จำเป็นต้องใส่ 1 ตัว คือเกรด ซึ่งมีค่า default เป็น F"
      ],
      "metadata": {
        "id": "cqy2TrCXRBdF"
      }
    },
    {
      "cell_type": "code",
      "source": [
        "def print_grade(name,id,grade = 'F'):\n",
        "      print(f'รหัสประจำตัว {id} ชื่อ {name}')\n",
        "      print(f'ได้เกรด {grade}')"
      ],
      "metadata": {
        "id": "_OlbuvtHQQAZ"
      },
      "execution_count": 31,
      "outputs": []
    },
    {
      "cell_type": "code",
      "source": [
        "print_grade('นางสาวอธิยาภรณ์ ลุล่วง','623020031-5')"
      ],
      "metadata": {
        "colab": {
          "base_uri": "https://localhost:8080/"
        },
        "id": "cVqWtiDgQ3NB",
        "outputId": "8b71bcb0-d027-49a5-e25d-04a9a3015688"
      },
      "execution_count": 32,
      "outputs": [
        {
          "output_type": "stream",
          "name": "stdout",
          "text": [
            "รหัสประจำตัว 623020031-5 ชื่อ นางสาวอธิยาภรณ์ ลุล่วง\n",
            "ได้เกรด F\n"
          ]
        }
      ]
    },
    {
      "cell_type": "code",
      "source": [
        "print_grade('นางสาวอธิยาภรณ์ ลุล่วง','623020031-5','A')"
      ],
      "metadata": {
        "colab": {
          "base_uri": "https://localhost:8080/"
        },
        "id": "Y6EcBVciRsQo",
        "outputId": "c218b417-18a7-4e18-b990-1b613ef772f8"
      },
      "execution_count": 33,
      "outputs": [
        {
          "output_type": "stream",
          "name": "stdout",
          "text": [
            "รหัสประจำตัว 623020031-5 ชื่อ นางสาวอธิยาภรณ์ ลุล่วง\n",
            "ได้เกรด A\n"
          ]
        }
      ]
    },
    {
      "cell_type": "code",
      "source": [
        "print_grade(id ='623020031-5',name='นางสาวอธิยาภรณ์ ลุล่วง',grade='B+')"
      ],
      "metadata": {
        "colab": {
          "base_uri": "https://localhost:8080/"
        },
        "id": "j4tfscDrR6iJ",
        "outputId": "a3d6de82-7120-4b32-b75e-0cbe344817b5"
      },
      "execution_count": 34,
      "outputs": [
        {
          "output_type": "stream",
          "name": "stdout",
          "text": [
            "รหัสประจำตัว 623020031-5 ชื่อ นางสาวอธิยาภรณ์ ลุล่วง\n",
            "ได้เกรด B+\n"
          ]
        }
      ]
    },
    {
      "cell_type": "markdown",
      "source": [
        "Looping (for)"
      ],
      "metadata": {
        "id": "YGElUeTaD0-V"
      }
    },
    {
      "cell_type": "markdown",
      "source": [
        "Conditional Statemant (if)"
      ],
      "metadata": {
        "id": "5MM_rX1jD5b8"
      }
    },
    {
      "cell_type": "code",
      "source": [
        ""
      ],
      "metadata": {
        "id": "F31-oOVjD4WF"
      },
      "execution_count": null,
      "outputs": []
    }
  ]
}